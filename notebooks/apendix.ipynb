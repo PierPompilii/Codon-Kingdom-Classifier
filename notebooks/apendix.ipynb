{
 "cells": [
  {
   "cell_type": "markdown",
   "metadata": {},
   "source": [
    "## Initial logisctic stat model test"
   ]
  },
  {
   "cell_type": "code",
   "execution_count": null,
   "metadata": {},
   "outputs": [],
   "source": [
    "X = codon_df_clean.drop(columns=['Kingdom', 'SpeciesName'])\n",
    "y= codon_df_clean['Kingdom']"
   ]
  },
  {
   "cell_type": "code",
   "execution_count": null,
   "metadata": {},
   "outputs": [],
   "source": [
    "# Correlation heatmap between independent variables (your X)\n",
    "plt.figure(figsize=(20,10))\n",
    "mask = np.triu(X.corr())\n",
    "sns.heatmap(data= X.corr(), annot= False, cmap= \"coolwarm\", mask= mask, vmax=1, vmin=-1)\n",
    "plt.tight_layout()\n",
    "plt.show()"
   ]
  },
  {
   "cell_type": "code",
   "execution_count": null,
   "metadata": {},
   "outputs": [],
   "source": [
    "X_modelling = sm.add_constant(X)\n",
    "X_test = X_modelling[['const','UUU']]"
   ]
  },
  {
   "cell_type": "code",
   "execution_count": null,
   "metadata": {},
   "outputs": [],
   "source": [
    "model_1 = sm.MNLogit(y,X_test).fit()\n",
    "\n",
    "model_1.summary()"
   ]
  },
  {
   "cell_type": "code",
   "execution_count": null,
   "metadata": {},
   "outputs": [],
   "source": [
    "## ML logistic regression\n",
    "from sklearn.model_selection import train_test_split\n",
    "from sklearn.linear_model import LogisticRegression\n",
    "from sklearn.preprocessing import StandardScaler\n",
    "\n",
    "y_1 = codon_df_clean['Kingdom_mapped']\n",
    "X_1= codon_df_clean.drop(columns=['Kingdom', 'SpeciesName', 'Kingdom_mapped', 'DNAtype_mapped'])\n",
    "X_train, X_test, y_train, y_test = train_test_split(X_1, y_1, test_size=0.3, random_state=17)\n",
    "\n",
    "X_train.shape\n",
    "y_train.shape\n",
    "my_LR_scaler = StandardScaler()\n",
    "\n",
    "my_LR_scaler.fit(X_train)\n",
    "\n",
    "X_train_scaled = my_LR_scaler.transform(X_train)\n",
    "X_test_scaled = my_LR_scaler.transform(X_test)\n",
    "c_list = [0.001, 0.01, 0.1, 1, 10, 100, 1000]\n",
    "train_scores = []\n",
    "test_scores = []\n",
    "\n",
    "for c in c_list:\n",
    "    log_model_preview = LogisticRegression(C=c, random_state=7, max_iter=1000, n_jobs=4).fit(X_train_scaled, y_train)\n",
    "    \n",
    "    train_scores.append(log_model_preview.score(X_train_scaled, y_train))\n",
    "\n",
    "    test_scores.append(log_model_preview.score(X_test_scaled, y_test))\n",
    " \n",
    "pd.DataFrame({'C value': c_list, 'train score': train_scores, 'test score': test_scores})\n",
    "plt.figure(figsize=(10, 5))\n",
    "plt.plot(c_list, train_scores, label='Train score', marker='.')\n",
    "plt.plot(c_list, test_scores, label='Test score', marker='.')\n",
    "plt.legend()\n",
    "plt.title('Effect of Varying C on Logistic Regression scores Preview')\n",
    "plt.xscale('log')\n",
    "plt.xlabel('C')\n",
    "plt.ylabel('Accuracy')\n",
    "plt.grid()\n",
    "plt.show()\n",
    "log_model_tunned = LogisticRegression(C=1, max_iter=1000, random_state=7)\n",
    "\n",
    "log_model_tunned.fit(X_train_scaled, y_train)\n",
    "print(f'Accuracy on train set: {log_model_tunned.score(X_train_scaled, y_train)}')\n",
    "print(f'Accuracy on test set: {log_model_tunned.score(X_test_scaled, y_test)}')\n",
    "y_train_pred = log_model_tunned.predict(X_train_scaled)\n",
    "y_test_pred = log_model_tunned.predict(X_test_scaled)\n",
    "from sklearn.metrics import classification_report\n",
    "report_train = classification_report(y_train, y_train_pred)\n",
    "print(report_train)\n",
    "report_test = classification_report(y_test, y_test_pred)\n",
    "print(report_test)"
   ]
  },
  {
   "cell_type": "markdown",
   "metadata": {},
   "source": [
    "## KNN to be used"
   ]
  },
  {
   "cell_type": "code",
   "execution_count": null,
   "metadata": {},
   "outputs": [],
   "source": [
    "## KNN\n",
    "from sklearn.neighbors import KNeighborsClassifier\n",
    "from sklearn.preprocessing import StandardScaler\n",
    "y_2 = codon_df_clean['Kingdom_mapped']\n",
    "X_2= codon_df_clean.drop(columns=['Kingdom', 'SpeciesName', 'Kingdom_mapped', 'DNAtype_mapped'])\n",
    "X_train, X_test, y_train, y_test = train_test_split(X_2, y_2, test_size=0.3, random_state=17)\n",
    "knn_scaler = StandardScaler()\n",
    "knn_scaler.fit(X_train)\n",
    "X_train_scaler_knn = knn_scaler.transform(X_train)\n",
    "X_test_scaler_knn = knn_scaler.transform(X_test)\n",
    "k_list= range(1, 20)\n",
    "train_scores = []\n",
    "test_scores = []\n",
    "\n",
    "for k in k_list:\n",
    "    my_knn_model = KNeighborsClassifier(n_neighbors=k, weights='distance')\n",
    "    my_knn_model.fit(X_train_scaler_knn, y_train)\n",
    "    train_scores.append(my_knn_model.score(X_train_scaler_knn, y_train))\n",
    "    test_scores.append(my_knn_model.score(X_test_scaler_knn, y_test))\n",
    "plt.figure()\n",
    "plt.plot(k_list, train_scores, color='blue', label='Train Score')\n",
    "plt.plot(k_list, test_scores, color='red', label='Test Score')\n",
    "plt.xlabel('Value of k hyperparameter')\n",
    "plt.ylabel('Accuracy Score')\n",
    "plt.title('with scaling')\n",
    "plt.legend()\n",
    "plt.show()\n",
    "knn_model_tunned = KNeighborsClassifier(n_neighbors=3, weights='distance')\n",
    "knn_model_tunned.fit(X_train_scaler_knn, y_train)\n",
    "from sklearn.metrics import confusion_matrix, ConfusionMatrixDisplay\n",
    "\n",
    "y_pred_test = knn_model_tunned.predict(X_test_scaler_knn)\n",
    "y_pred_train = knn_model_tunned.predict(X_train_scaler_knn)\n",
    "from sklearn.metrics import accuracy_score\n",
    "\n",
    "accuracy = accuracy_score(y_test, y_pred)\n",
    "print(f'Accuracy: {accuracy}')\n",
    "from sklearn.metrics import classification_report\n",
    "report_train = classification_report(y_train, y_pred_train)\n",
    "print(report_train)\n",
    "report_test = classification_report(y_test, y_pred_test)\n",
    "print(report_test)\n",
    "cm_train = confusion_matrix(y_train, y_pred_train)\n",
    "ConfusionMatrixDisplay.from_estimator(knn_model_tunned, X_train_scaler_knn, y_train, normalize='true')\n",
    "cm = confusion_matrix(y_train, y_pred_train)\n",
    "disp = ConfusionMatrixDisplay(confusion_matrix=cm)\n",
    "disp.plot()\n",
    "cm = confusion_matrix(y_test, y_pred_test)\n",
    "disp = ConfusionMatrixDisplay(confusion_matrix=cm)\n",
    "disp.plot()"
   ]
  }
 ],
 "metadata": {
  "language_info": {
   "name": "python"
  }
 },
 "nbformat": 4,
 "nbformat_minor": 2
}
