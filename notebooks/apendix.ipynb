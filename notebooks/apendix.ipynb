{
 "cells": [
  {
   "cell_type": "markdown",
   "metadata": {},
   "source": [
    "## Initial logisctic stat model test"
   ]
  },
  {
   "cell_type": "code",
   "execution_count": null,
   "metadata": {},
   "outputs": [],
   "source": [
    "X = codon_df_clean.drop(columns=['Kingdom', 'SpeciesName'])\n",
    "y= codon_df_clean['Kingdom']"
   ]
  },
  {
   "cell_type": "code",
   "execution_count": null,
   "metadata": {},
   "outputs": [],
   "source": [
    "# Correlation heatmap between independent variables (your X)\n",
    "plt.figure(figsize=(20,10))\n",
    "mask = np.triu(X.corr())\n",
    "sns.heatmap(data= X.corr(), annot= False, cmap= \"coolwarm\", mask= mask, vmax=1, vmin=-1)\n",
    "plt.tight_layout()\n",
    "plt.show()"
   ]
  },
  {
   "cell_type": "code",
   "execution_count": null,
   "metadata": {},
   "outputs": [],
   "source": [
    "X_modelling = sm.add_constant(X)\n",
    "X_test = X_modelling[['const','UUU']]"
   ]
  },
  {
   "cell_type": "code",
   "execution_count": null,
   "metadata": {},
   "outputs": [],
   "source": [
    "model_1 = sm.MNLogit(y,X_test).fit()\n",
    "\n",
    "model_1.summary()"
   ]
  },
  {
   "cell_type": "code",
   "execution_count": null,
   "metadata": {},
   "outputs": [],
   "source": [
    "## ML logistic regression\n",
    "from sklearn.model_selection import train_test_split\n",
    "from sklearn.linear_model import LogisticRegression\n",
    "from sklearn.preprocessing import StandardScaler\n",
    "\n",
    "y_1 = codon_df_clean['Kingdom_mapped']\n",
    "X_1= codon_df_clean.drop(columns=['Kingdom', 'SpeciesName', 'Kingdom_mapped', 'DNAtype_mapped'])\n",
    "X_train, X_test, y_train, y_test = train_test_split(X_1, y_1, test_size=0.3, random_state=17)\n",
    "\n",
    "X_train.shape\n",
    "y_train.shape\n",
    "my_LR_scaler = StandardScaler()\n",
    "\n",
    "my_LR_scaler.fit(X_train)\n",
    "\n",
    "X_train_scaled = my_LR_scaler.transform(X_train)\n",
    "X_test_scaled = my_LR_scaler.transform(X_test)\n",
    "c_list = [0.001, 0.01, 0.1, 1, 10, 100, 1000]\n",
    "train_scores = []\n",
    "test_scores = []\n",
    "\n",
    "for c in c_list:\n",
    "    log_model_preview = LogisticRegression(C=c, random_state=7, max_iter=1000, n_jobs=4).fit(X_train_scaled, y_train)\n",
    "    \n",
    "    train_scores.append(log_model_preview.score(X_train_scaled, y_train))\n",
    "\n",
    "    test_scores.append(log_model_preview.score(X_test_scaled, y_test))\n",
    " \n",
    "pd.DataFrame({'C value': c_list, 'train score': train_scores, 'test score': test_scores})\n",
    "plt.figure(figsize=(10, 5))\n",
    "plt.plot(c_list, train_scores, label='Train score', marker='.')\n",
    "plt.plot(c_list, test_scores, label='Test score', marker='.')\n",
    "plt.legend()\n",
    "plt.title('Effect of Varying C on Logistic Regression scores Preview')\n",
    "plt.xscale('log')\n",
    "plt.xlabel('C')\n",
    "plt.ylabel('Accuracy')\n",
    "plt.grid()\n",
    "plt.show()\n",
    "log_model_tunned = LogisticRegression(C=1, max_iter=1000, random_state=7)\n",
    "\n",
    "log_model_tunned.fit(X_train_scaled, y_train)\n",
    "print(f'Accuracy on train set: {log_model_tunned.score(X_train_scaled, y_train)}')\n",
    "print(f'Accuracy on test set: {log_model_tunned.score(X_test_scaled, y_test)}')\n",
    "y_train_pred = log_model_tunned.predict(X_train_scaled)\n",
    "y_test_pred = log_model_tunned.predict(X_test_scaled)\n",
    "from sklearn.metrics import classification_report\n",
    "report_train = classification_report(y_train, y_train_pred)\n",
    "print(report_train)\n",
    "report_test = classification_report(y_test, y_test_pred)\n",
    "print(report_test)"
   ]
  },
  {
   "cell_type": "code",
   "execution_count": null,
   "metadata": {},
   "outputs": [],
   "source": [
    "data = {\n",
    "    \"precision\": [0.30, 0.66, 0.53, 0.50, 0.20, 0.03, 0.91, 0.32, 0.33, 0.52, 0.93],\n",
    "    \"recall\": [0.62, 0.36, 0.39, 0.78, 0.86, 0.50, 0.41, 0.23, 0.47, 0.92, 0.57],\n",
    "    \"f1-score\": [0.40, 0.46, 0.45, 0.61, 0.32, 0.06, 0.57, 0.27, 0.39, 0.67, 0.70]\n",
    "}\n",
    "new_index = ['bct', 'vrl', 'mam', 'vrt', 'inv', 'pln', 'phg', 'rod', 'pri', 'arc', 'plm']\n",
    "\n",
    "\n",
    "# Creating DataFrame\n",
    "df = pd.DataFrame(data, index=new_index).sort_values(by='precision',ascending=False)\n",
    "\n",
    "# Creating a bar plot\n",
    "df.plot(kind='bar', figsize=(12, 8))\n",
    "plt.title('Classification Report Metrics for GaussianNB')\n",
    "plt.xlabel('Kingdom')\n",
    "plt.ylabel('Score')\n",
    "plt.legend(loc='upper right')\n",
    "plt.xticks(rotation=45)\n",
    "plt.grid(True)\n",
    "plt.show()\n"
   ]
  },
  {
   "cell_type": "code",
   "execution_count": null,
   "metadata": {},
   "outputs": [],
   "source": [
    "new_data = {\n",
    "    \"precision\": [1.00, 0.91, 0.93, 0.91, 0.96, 0.00, 0.91, 0.95, 1.00, 0.90, 0.91],\n",
    "    \"recall\": [0.62, 0.97, 0.76, 0.88, 0.59, 0.00, 0.93, 0.49, 0.57, 0.97, 0.98],\n",
    "    \"f1-score\": [0.77, 0.94, 0.83, 0.89, 0.73, 0.00, 0.92, 0.64, 0.73, 0.94, 0.94]\n",
    "}\n",
    "\n",
    "index = ['arc', 'bct', 'inv', 'mam', 'phg', 'plm', 'pln', 'pri', 'rod', 'vrl', 'vrt']\n",
    "# Creating DataFrame with the new data and the provided index\n",
    "df_new = pd.DataFrame(new_data, index=index).sort_values(by='precision', ascending=False)\n",
    "\n",
    "# Creating a bar plot with the updated data and index\n",
    "df_new.plot(kind='bar', figsize=(12, 8))\n",
    "plt.title('Classification Report For Random Forest')\n",
    "plt.xlabel('Kingdom')\n",
    "plt.ylabel('Score')\n",
    "plt.legend(loc='upper right')\n",
    "plt.xticks(rotation=45)\n",
    "plt.grid(True)\n",
    "plt.show()"
   ]
  }
 ],
 "metadata": {
  "language_info": {
   "name": "python"
  }
 },
 "nbformat": 4,
 "nbformat_minor": 2
}
